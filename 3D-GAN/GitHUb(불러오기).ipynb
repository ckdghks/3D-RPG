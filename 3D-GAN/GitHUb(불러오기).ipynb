{
  "nbformat": 4,
  "nbformat_minor": 0,
  "metadata": {
    "colab": {
      "name": "GitHUb(불러오기).ipynb",
      "private_outputs": true,
      "provenance": [],
      "toc_visible": true,
      "authorship_tag": "ABX9TyMASktjhxkMcRe0vn2rHgIj",
      "include_colab_link": true
    },
    "kernelspec": {
      "name": "python3",
      "display_name": "Python 3"
    }
  },
  "cells": [
    {
      "cell_type": "markdown",
      "metadata": {
        "id": "view-in-github",
        "colab_type": "text"
      },
      "source": [
        "<a href=\"https://colab.research.google.com/github/ckdghks/colab-AI/blob/master/GitHUb(%EB%B6%88%EB%9F%AC%EC%98%A4%EA%B8%B0).ipynb\" target=\"_parent\"><img src=\"https://colab.research.google.com/assets/colab-badge.svg\" alt=\"Open In Colab\"/></a>"
      ]
    },
    {
      "cell_type": "markdown",
      "metadata": {
        "id": "RyliuCFVnNSd"
      },
      "source": [
        "#구글드라이브 연동"
      ]
    },
    {
      "cell_type": "code",
      "metadata": {
        "id": "x313KsnBa1lh"
      },
      "source": [
        "from google.colab import drive\r\n",
        "drive.mount('/content/drive')"
      ],
      "execution_count": null,
      "outputs": []
    },
    {
      "cell_type": "markdown",
      "metadata": {
        "id": "FD0_Vq0QnS70"
      },
      "source": [
        "#드라이브 내 원하는 경로로 이동"
      ]
    },
    {
      "cell_type": "code",
      "metadata": {
        "id": "qyac8Lh0njgx"
      },
      "source": [
        "cd \"/content/drive/My Drive/3D-GAN\""
      ],
      "execution_count": null,
      "outputs": []
    },
    {
      "cell_type": "markdown",
      "metadata": {
        "id": "dEEsFOtvpCWI"
      },
      "source": [
        "#git clone을 활용하여 클론하기"
      ]
    },
    {
      "cell_type": "code",
      "metadata": {
        "id": "s90rq5TcpfW8"
      },
      "source": [
        "! git clone https://github.com/PacktPublishing/Generative-Adversarial-Networks-Projects.git"
      ],
      "execution_count": null,
      "outputs": []
    }
  ]
}
